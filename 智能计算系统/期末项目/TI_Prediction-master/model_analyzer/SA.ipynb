{
 "cells": [
  {
   "cell_type": "markdown",
   "metadata": {},
   "source": [
    "# 读取路径数据和再分析数据"
   ]
  },
  {
   "cell_type": "code",
   "execution_count": 1,
   "metadata": {
    "ExecuteTime": {
     "end_time": "2021-09-02T07:30:51.886745Z",
     "start_time": "2021-09-02T07:30:50.114252Z"
    }
   },
   "outputs": [],
   "source": [
    "import pandas as pd\n",
    "import numpy as np\n",
    "from sklearn.preprocessing import MinMaxScaler\n",
    "from sklearn.model_selection import train_test_split\n",
    "from matplotlib import pyplot as plt\n",
    "from geopy.distance import great_circle\n",
    "\n",
    "import torch\n",
    "import torch.utils.data as Data\n",
    "import torch.nn as nn\n",
    "import torch.nn.functional as F\n",
    "import torchvision.models as models\n",
    "from torch.autograd import Variable\n",
    "# from torchsummary import summary\n",
    "import matplotlib.pyplot as plt\n",
    "import seaborn as sns\n",
    "\n",
    "import os\n",
    "import random\n",
    "\n",
    "# 预测24小时后\n",
    "pre_seq = 4\n",
    "# 批训练数量\n",
    "batch_size = 128\n",
    "# 训练迭代次数\n",
    "epochs = 128\n",
    "# 设置验证loss，用于保存模型\n",
    "min_val_loss = 100\n",
    "# 保存模型\n",
    "model_name = 'torch_CLIPER_u_v_2DCNN_multi_pressure(4)_multi_time_split_fuse_attention-time-24h.pkl'\n",
    "os.environ[\"CUDA_VISIBLE_DEVICES\"] = \"0\""
   ]
  },
  {
   "cell_type": "code",
   "execution_count": 2,
   "metadata": {
    "ExecuteTime": {
     "end_time": "2021-09-02T07:30:52.137959Z",
     "start_time": "2021-09-02T07:30:51.889579Z"
    }
   },
   "outputs": [],
   "source": [
    "train = pd.read_csv('../../CMA_Chinese_Academy_of_Sciences/CMA_train_'+str(pre_seq*6)+'h.csv', header=None)\n",
    "test= pd.read_csv('../../CMA_Chinese_Academy_of_Sciences/CMA_test_'+str(pre_seq*6)+'h.csv', header=None)"
   ]
  },
  {
   "cell_type": "code",
   "execution_count": 3,
   "metadata": {
    "ExecuteTime": {
     "end_time": "2021-09-02T07:30:52.143464Z",
     "start_time": "2021-09-02T07:30:52.139508Z"
    }
   },
   "outputs": [
    {
     "data": {
      "text/plain": [
       "((8406, 101), (2747, 101))"
      ]
     },
     "execution_count": 3,
     "metadata": {},
     "output_type": "execute_result"
    }
   ],
   "source": [
    "train.shape, test.shape"
   ]
  },
  {
   "cell_type": "code",
   "execution_count": 4,
   "metadata": {
    "ExecuteTime": {
     "end_time": "2021-09-02T07:30:52.225881Z",
     "start_time": "2021-09-02T07:30:52.144624Z"
    }
   },
   "outputs": [],
   "source": [
    "CLIPER_feature =  pd.concat((train, test), axis=0)\n",
    "CLIPER_feature.reset_index(drop=True, inplace=True)"
   ]
  },
  {
   "cell_type": "code",
   "execution_count": 5,
   "metadata": {
    "ExecuteTime": {
     "end_time": "2021-09-02T07:30:52.316625Z",
     "start_time": "2021-09-02T07:30:52.227925Z"
    }
   },
   "outputs": [],
   "source": [
    "X_wide_scaler = MinMaxScaler()\n",
    "y_scaler = MinMaxScaler()\n",
    "\n",
    "X_wide = X_wide_scaler.fit_transform(CLIPER_feature.iloc[:, 5:])\n",
    "X_wide_train = X_wide[0: train.shape[0], :]\n",
    "\n",
    "y = y_scaler.fit_transform(CLIPER_feature.loc[:, 3].values.reshape(-1, 1))\n",
    "y_train = y[0: train.shape[0], :]"
   ]
  },
  {
   "cell_type": "code",
   "execution_count": 6,
   "metadata": {
    "ExecuteTime": {
     "end_time": "2021-09-02T07:30:52.355048Z",
     "start_time": "2021-09-02T07:30:52.318154Z"
    }
   },
   "outputs": [],
   "source": [
    "# 获取是否提前（0为当前，1表示前6小时，2表示前12小时）\n",
    "ahead_times = [0,1,2,3]\n",
    "# 所需要的等压面\n",
    "pressures = [1000, 750, 500, 250]\n",
    "\n",
    "# 再分析数据\n",
    "sequential_reanalysis_u_list = []\n",
    "# 再分析数据\n",
    "reanalysis_u_test_dict = {}\n",
    "# 归一化Scaler\n",
    "X_deep_u_scaler_dict = {}\n",
    "\n",
    "# 再分析数据\n",
    "sequential_reanalysis_v_list = []\n",
    "# 再分析数据\n",
    "reanalysis_v_test_dict = {}\n",
    "# 归一化Scaler\n",
    "X_deep_v_scaler_dict = {}"
   ]
  },
  {
   "cell_type": "code",
   "execution_count": 7,
   "metadata": {
    "ExecuteTime": {
     "end_time": "2021-09-02T07:31:27.464608Z",
     "start_time": "2021-09-02T07:30:52.357695Z"
    }
   },
   "outputs": [
    {
     "name": "stdout",
     "output_type": "stream",
     "text": [
      "ahead_time: 0 (8406, 1, 4, 31, 31, 1)\n",
      "ahead_time: 1 (8406, 1, 4, 31, 31, 1)\n",
      "ahead_time: 2 (8406, 1, 4, 31, 31, 1)\n",
      "ahead_time: 3 (8406, 1, 4, 31, 31, 1)\n"
     ]
    }
   ],
   "source": [
    "# 再分析类型\n",
    "reanalysis_type = 'u'\n",
    "for ahead_time in ahead_times:\n",
    "    # 再分析数据\n",
    "    reanalysis_list = []\n",
    "    for pressure in pressures:\n",
    "        # 根据时间段读取不同再分析数据\n",
    "        folder = None\n",
    "        if ahead_time == 0:\n",
    "            folder = reanalysis_type\n",
    "        else:\n",
    "            folder = reanalysis_type + '_' + str(ahead_time*6)\n",
    "        # 读取再分析文件\n",
    "        train_reanalysis_csv = pd.read_csv('../../../CMA_deep_learning/CMA_Reanalysis/'+folder+'/'+reanalysis_type+str(pressure)+'_train_31_31.csv', header=None)\n",
    "        test_reanalysis_csv = pd.read_csv('../../../CMA_deep_learning/CMA_Reanalysis/'+folder+'/'+reanalysis_type+str(pressure)+'_test_31_31.csv', header=None)\n",
    "        # 根据台风记录ID，选出需要提取再分析数据\n",
    "        train_reanalysis = train_reanalysis_csv[train_reanalysis_csv[0].isin(train[0].unique())]\n",
    "        test_reanalysis = test_reanalysis_csv[test_reanalysis_csv[0].isin(test[0].unique())]\n",
    "        reanalysis_u_test_dict[reanalysis_type+str(pressure)+str(ahead_time)] = test_reanalysis # 保存test 用于后面测试\n",
    "        # 合并训练和测试再分析数据\n",
    "        reanalysis =  pd.concat((train_reanalysis, test_reanalysis), axis=0)\n",
    "        reanalysis.reset_index(drop=True, inplace=True)\n",
    "        # 归一化\n",
    "        scaler_name = reanalysis_type +str(pressure) + str(ahead_time)\n",
    "        X_deep_u_scaler_dict[scaler_name] = MinMaxScaler()\n",
    "        X_deep = X_deep_u_scaler_dict[scaler_name].fit_transform(reanalysis.loc[:, 5:])\n",
    "        # 转化为3D CNN的输入形式（batch，长，宽，高，通道）\n",
    "        X_deep_final = X_deep[0: train.shape[0], :].reshape(-1, 1, 1, 31, 31, 1)\n",
    "        reanalysis_list.append(X_deep_final)\n",
    "    # 所在时间，所有等压面合并\n",
    "    X_deep_temp = np.concatenate(reanalysis_list[:], axis=2)\n",
    "    print(\"ahead_time:\", ahead_time, X_deep_temp.shape)\n",
    "    sequential_reanalysis_u_list.append(X_deep_temp)\n",
    "\n",
    "X_deep_u_train = np.concatenate(sequential_reanalysis_u_list, axis=5)"
   ]
  },
  {
   "cell_type": "code",
   "execution_count": 8,
   "metadata": {
    "ExecuteTime": {
     "end_time": "2021-09-02T07:32:00.613172Z",
     "start_time": "2021-09-02T07:31:27.466669Z"
    }
   },
   "outputs": [
    {
     "name": "stdout",
     "output_type": "stream",
     "text": [
      "ahead_time: 0 (8406, 1, 4, 31, 31, 1)\n",
      "ahead_time: 1 (8406, 1, 4, 31, 31, 1)\n",
      "ahead_time: 2 (8406, 1, 4, 31, 31, 1)\n",
      "ahead_time: 3 (8406, 1, 4, 31, 31, 1)\n"
     ]
    }
   ],
   "source": [
    "# 再分析类型\n",
    "reanalysis_type = 'v'\n",
    "for ahead_time in ahead_times:\n",
    "    # 再分析数据\n",
    "    reanalysis_list = []\n",
    "    for pressure in pressures:\n",
    "        # 根据时间段读取不同再分析数据\n",
    "        folder = None\n",
    "        if ahead_time == 0:\n",
    "            folder = reanalysis_type\n",
    "        else:\n",
    "            folder = reanalysis_type + '_' + str(ahead_time*6)\n",
    "        # 读取再分析文件\n",
    "        train_reanalysis_csv = pd.read_csv('../../../CMA_deep_learning/CMA_Reanalysis/'+folder+'/'+reanalysis_type+str(pressure)+'_train_31_31.csv', header=None)\n",
    "        test_reanalysis_csv = pd.read_csv('../../../CMA_deep_learning/CMA_Reanalysis/'+folder+'/'+reanalysis_type+str(pressure)+'_test_31_31.csv', header=None)\n",
    "        # 根据台风记录ID，选出需要提取再分析数据\n",
    "        train_reanalysis = train_reanalysis_csv[train_reanalysis_csv[0].isin(train[0].unique())]\n",
    "        test_reanalysis = test_reanalysis_csv[test_reanalysis_csv[0].isin(test[0].unique())]\n",
    "        reanalysis_v_test_dict[reanalysis_type+str(pressure)+str(ahead_time)] = test_reanalysis # 保存test 用于后面测试\n",
    "        # 合并训练和测试再分析数据\n",
    "        reanalysis =  pd.concat((train_reanalysis, test_reanalysis), axis=0)\n",
    "        reanalysis.reset_index(drop=True, inplace=True)\n",
    "        # 归一化\n",
    "        scaler_name = reanalysis_type +str(pressure) + str(ahead_time)\n",
    "        X_deep_v_scaler_dict[scaler_name] = MinMaxScaler()\n",
    "        X_deep = X_deep_v_scaler_dict[scaler_name].fit_transform(reanalysis.loc[:, 5:])\n",
    "        # 转化为3D CNN的输入形式（batch，长，宽，高，通道）\n",
    "        X_deep_final = X_deep[0: train.shape[0], :].reshape(-1, 1, 1, 31, 31, 1)\n",
    "        reanalysis_list.append(X_deep_final)\n",
    "    # 所在时间，所有等压面合并\n",
    "    X_deep_temp = np.concatenate(reanalysis_list[:], axis=2)\n",
    "    print(\"ahead_time:\", ahead_time, X_deep_temp.shape)\n",
    "    sequential_reanalysis_v_list.append(X_deep_temp)\n",
    "\n",
    "X_deep_v_train = np.concatenate(sequential_reanalysis_v_list, axis=5)"
   ]
  },
  {
   "cell_type": "code",
   "execution_count": 9,
   "metadata": {
    "ExecuteTime": {
     "end_time": "2021-09-02T07:32:01.232316Z",
     "start_time": "2021-09-02T07:32:00.614494Z"
    }
   },
   "outputs": [],
   "source": [
    "X_deep_train = np.concatenate((X_deep_u_train, X_deep_v_train), axis=1)"
   ]
  },
  {
   "cell_type": "code",
   "execution_count": 10,
   "metadata": {
    "ExecuteTime": {
     "end_time": "2021-09-02T07:32:01.236589Z",
     "start_time": "2021-09-02T07:32:01.233511Z"
    },
    "scrolled": true
   },
   "outputs": [
    {
     "data": {
      "text/plain": [
       "((8406, 96), (8406, 2, 4, 31, 31, 4))"
      ]
     },
     "execution_count": 10,
     "metadata": {},
     "output_type": "execute_result"
    }
   ],
   "source": [
    "X_wide_train.shape, X_deep_train.shape"
   ]
  },
  {
   "cell_type": "markdown",
   "metadata": {},
   "source": [
    "# 划分训练集、验证集"
   ]
  },
  {
   "cell_type": "code",
   "execution_count": 11,
   "metadata": {
    "ExecuteTime": {
     "end_time": "2021-09-02T07:32:01.293343Z",
     "start_time": "2021-09-02T07:32:01.237735Z"
    }
   },
   "outputs": [],
   "source": [
    "class TrainLoader(Data.Dataset):\n",
    "    def __init__(self, X_wide_train, X_deep_train, y_train):\n",
    "        self.X_wide_train = X_wide_train\n",
    "        self.X_deep_train = X_deep_train\n",
    "        self.y_train = y_train\n",
    "        \n",
    "    def __getitem__(self, index):\n",
    "        return [self.X_wide_train[index], self.X_deep_train[index]], self.y_train[index]\n",
    "    \n",
    "    def __len__(self):\n",
    "        return len(self.X_wide_train)"
   ]
  },
  {
   "cell_type": "code",
   "execution_count": 12,
   "metadata": {
    "ExecuteTime": {
     "end_time": "2021-09-02T07:32:01.367575Z",
     "start_time": "2021-09-02T07:32:01.295726Z"
    }
   },
   "outputs": [],
   "source": [
    "full_train_index = [*range(0, len(X_wide_train))]\n",
    "\n",
    "train_index, val_index, _, _, = train_test_split(full_train_index,full_train_index,test_size=0.1)"
   ]
  },
  {
   "cell_type": "code",
   "execution_count": 13,
   "metadata": {
    "ExecuteTime": {
     "end_time": "2021-09-02T07:32:01.436918Z",
     "start_time": "2021-09-02T07:32:01.370063Z"
    },
    "scrolled": true
   },
   "outputs": [
    {
     "data": {
      "text/plain": [
       "(7565, 841)"
      ]
     },
     "execution_count": 13,
     "metadata": {},
     "output_type": "execute_result"
    }
   ],
   "source": [
    "len(train_index), len(val_index)"
   ]
  },
  {
   "cell_type": "code",
   "execution_count": 14,
   "metadata": {
    "ExecuteTime": {
     "end_time": "2021-09-02T07:32:02.262461Z",
     "start_time": "2021-09-02T07:32:01.439500Z"
    }
   },
   "outputs": [],
   "source": [
    "train_dataset = torch.utils.data.DataLoader(\n",
    "    TrainLoader(X_wide_train[train_index], X_deep_train[train_index], y_train[train_index]), \n",
    "                                                 batch_size=batch_size, shuffle=True)"
   ]
  },
  {
   "cell_type": "code",
   "execution_count": 15,
   "metadata": {
    "ExecuteTime": {
     "end_time": "2021-09-02T07:32:02.346263Z",
     "start_time": "2021-09-02T07:32:02.263798Z"
    }
   },
   "outputs": [],
   "source": [
    "val_dataset = torch.utils.data.DataLoader(\n",
    "    TrainLoader(X_wide_train[val_index], X_deep_train[val_index], y_train[val_index]), \n",
    "                                                 batch_size=batch_size, shuffle=True)"
   ]
  },
  {
   "cell_type": "markdown",
   "metadata": {},
   "source": [
    "# 利用pytorch定义wide & deep 模型"
   ]
  },
  {
   "cell_type": "code",
   "execution_count": 16,
   "metadata": {
    "ExecuteTime": {
     "end_time": "2021-09-02T07:32:02.364803Z",
     "start_time": "2021-09-02T07:32:02.347719Z"
    }
   },
   "outputs": [],
   "source": [
    "class Net(nn.Module):\n",
    "    def __init__(self):\n",
    "        super(Net, self).__init__()\n",
    "        # Attention部分\n",
    "        self.att_block_1 = nn.Sequential(\n",
    "            nn.Conv2d(in_channels=64, out_channels=64, kernel_size=1, padding=0),\n",
    "            nn.BatchNorm2d(64),\n",
    "            nn.ReLU(inplace=True),\n",
    "            nn.Conv2d(in_channels=64, out_channels=64, kernel_size=1, padding=0),\n",
    "            nn.BatchNorm2d(64),\n",
    "            nn.Sigmoid(),\n",
    "        )\n",
    "        self.att_block_2 = nn.Sequential(\n",
    "            nn.Conv2d(in_channels=128, out_channels=128, kernel_size=1, padding=0),\n",
    "            nn.BatchNorm2d(128),\n",
    "            nn.ReLU(inplace=True),\n",
    "            nn.Conv2d(in_channels=128, out_channels=128, kernel_size=1, padding=0),\n",
    "            nn.BatchNorm2d(128),\n",
    "            nn.Sigmoid(),\n",
    "        )\n",
    "        self.att_block_3 = nn.Sequential(\n",
    "            nn.Conv2d(in_channels=256, out_channels=256, kernel_size=1, padding=0),\n",
    "            nn.BatchNorm2d(256),\n",
    "            nn.ReLU(inplace=True),\n",
    "            nn.Conv2d(in_channels=256, out_channels=256, kernel_size=1, padding=0),\n",
    "            nn.BatchNorm2d(256),\n",
    "            nn.Sigmoid(),\n",
    "        )\n",
    "        # cross部分\n",
    "        self.cross_unit = nn.Parameter(data=torch.ones(len(ahead_times), 6))\n",
    "        # fuse部分\n",
    "        self.fuse_unit = nn.Parameter(data=torch.ones(len(ahead_times), 4))\n",
    "        # deep部分卷积\n",
    "        self.conv1 = nn.Conv2d(4, 64, kernel_size=3, padding=(1, 1))\n",
    "        self.pool = nn.MaxPool2d(2, 2)\n",
    "        self.conv2 = nn.Conv2d(64, 128, kernel_size=3, padding=(1, 1))\n",
    "        self.conv3 = nn.Conv2d(128, 256, kernel_size=3, padding=(1, 1))\n",
    "        self.fc1 = nn.Linear(256 * 3 * 3, 128)\n",
    "        self.fc2 = nn.Linear(96 + 128 * len(ahead_times), 64)\n",
    "        self.fc3 = nn.Linear(64, 1)\n",
    "\n",
    "    def forward(self, wide, deep):\n",
    "        seq_list = []\n",
    "        for i in range(len(ahead_times)):\n",
    "            \n",
    "            deep_u = deep[:,0,:,:,:,i]\n",
    "            deep_v = deep[:,1,:,:,:,i]\n",
    "            \n",
    "            # model input\n",
    "            model_input_u_scaled = deep_u[0,0].cpu().detach().numpy().copy()\n",
    "            model_input_v_scaled = deep_v[0,0].cpu().detach().numpy().copy()\n",
    "            \n",
    "            # split 1\n",
    "            deep_u = self.pool(F.relu(self.conv1(deep_u))) \n",
    "            deep_v = self.pool(F.relu(self.conv1(deep_v)))\n",
    "            \n",
    "            # attention input\n",
    "            atten_input_u_scaled = nn.Upsample(size=[31,31], mode='bilinear', align_corners=True)(deep_u).cpu().detach().numpy().copy()\n",
    "            atten_input_v_scaled = nn.Upsample(size=[31,31], mode='bilinear', align_corners=True)(deep_v).cpu().detach().numpy().copy()\n",
    "            \n",
    "            Atten_v1 = self.att_block_1(deep_v)\n",
    "            Atten_u1 = self.att_block_1(deep_u)\n",
    "            \n",
    "            deep_v = self.att_block_1(deep_v) * deep_v\n",
    "            deep_u = self.att_block_1(deep_u)* deep_u\n",
    "            \n",
    "            # attention input\n",
    "            atten_output_u_scaled = nn.Upsample(size=[31,31], mode='bilinear', align_corners=True)(deep_u).cpu().detach().numpy().copy()\n",
    "            atten_output_v_scaled = nn.Upsample(size=[31,31], mode='bilinear', align_corners=True)(deep_v).cpu().detach().numpy().copy()\n",
    "            \n",
    "            if i == 0:\n",
    "                Atten_u1 = nn.Upsample(size=[31,31], mode='bilinear', align_corners=True)(Atten_u1)\n",
    "                Attent_U = np.mean(Atten_u1[0,].cpu().detach().numpy(), axis=0)\n",
    "                Atten_v1 = nn.Upsample(size=[31,31], mode='bilinear', align_corners=True)(Atten_v1)\n",
    "                Attent_V = np.mean(Atten_v1[0,].cpu().detach().numpy(), axis=0)\n",
    "                \n",
    "                fig, axs = plt.subplots(2, 2, figsize=(8,7))\n",
    "                \n",
    "                # model input\n",
    "                model_input_u = X_deep_u_scaler_dict[\"u10000\"].inverse_transform(model_input_u_scaled.reshape(-1,31*31)).reshape(31,31)\n",
    "                im = axs[0,0].imshow(model_input_u)\n",
    "                fig.colorbar(im, ax=axs[0,0])\n",
    "                axs[0,0].set_title('Input U')\n",
    "                \n",
    "                model_input_v = X_deep_v_scaler_dict[\"v10000\"].inverse_transform(model_input_v_scaled.reshape(-1,31*31)).reshape(31,31)\n",
    "                im = axs[0,1].imshow(model_input_v)\n",
    "                fig.colorbar(im, ax=axs[0,1])\n",
    "                axs[0,1].set_title('Input V')\n",
    "                \n",
    "                sns.heatmap(Attent_U, ax=axs[1,0])\n",
    "                axs[1,0].set_title('Attention Weigh U')\n",
    "                sns.heatmap(Attent_V, ax=axs[1,1])\n",
    "                axs[1,1].set_title('Attention Weigh V')\n",
    "                \n",
    "                plt.savefig('sa_ploter.pdf', bbox_inches = 'tight', pad_inches = 0)\n",
    "                \n",
    "            \n",
    "            # fuse 1\n",
    "            time_seq_1 = self.cross_unit[i][0]/(self.cross_unit[i][0]+self.cross_unit[i][1]) * deep_u +\\\n",
    "            self.cross_unit[i][1]/(self.cross_unit[i][0]+self.cross_unit[i][1])  * deep_v\n",
    "            time_seq_1 = self.pool(F.relu(self.conv2(time_seq_1)))\n",
    "            time_seq_1 = self.att_block_2(time_seq_1) * time_seq_1\n",
    "            \n",
    "            # split 2\n",
    "            deep_u = self.pool(F.relu(self.conv2(deep_u)))\n",
    "            deep_u = self.att_block_2(deep_u) * deep_u\n",
    "            \n",
    "            deep_v = self.pool(F.relu(self.conv2(deep_v)))\n",
    "            deep_v = self.att_block_2(deep_v) * deep_v\n",
    "            \n",
    "            # fuse 2\n",
    "            time_seq_2 = self.cross_unit[i][2]/(self.cross_unit[i][2]+self.cross_unit[i][3]) * deep_u +\\\n",
    "            self.cross_unit[i][3]/(self.cross_unit[i][2]+self.cross_unit[i][3]) * deep_v\n",
    "            time_seq_2 = self.fuse_unit[i][0]/(self.fuse_unit[i][0]+self.fuse_unit[i][1]) * time_seq_1+\\\n",
    "            self.fuse_unit[i][1]/(self.fuse_unit[i][0]+self.fuse_unit[i][1]) * time_seq_2\n",
    "            time_seq_2 = self.pool(F.relu(self.conv3(time_seq_2)))\n",
    "            time_seq_2 = self.att_block_3(time_seq_2) * time_seq_2\n",
    "            \n",
    "            # split 3\n",
    "            deep_u = self.pool(F.relu(self.conv3(deep_u)))\n",
    "            deep_u = self.att_block_3(deep_u) * deep_u\n",
    "            \n",
    "            deep_v = self.pool(F.relu(self.conv3(deep_v)))\n",
    "            deep_v = self.att_block_3(deep_v) * deep_v\n",
    "            \n",
    "            # fuse 3\n",
    "            time_seq = self.cross_unit[i][4]/(self.cross_unit[i][4]+self.cross_unit[i][5]) * deep_u +\\\n",
    "            self.cross_unit[i][5]/(self.cross_unit[i][4]+self.cross_unit[i][5]) * deep_v\n",
    "            time_seq = self.fuse_unit[i][2]/(self.fuse_unit[i][2]+self.fuse_unit[i][3]) * time_seq_2+\\\n",
    "            self.fuse_unit[i][3]/(self.fuse_unit[i][2]+self.fuse_unit[i][3]) * time_seq\n",
    "            time_seq = self.att_block_3(time_seq) * time_seq\n",
    "            \n",
    "            time_seq = time_seq.view(-1, 256 * 3 * 3)\n",
    "            time_seq = self.fc1(time_seq)\n",
    "            seq_list.append(time_seq)\n",
    "        wide = wide.view(-1, 96)\n",
    "        wide_n_deep = torch.cat((wide, seq_list[0]),1)\n",
    "        if len(ahead_times) > 1:\n",
    "            for i in range(1, len(ahead_times)):\n",
    "                wide_n_deep = torch.cat((wide_n_deep, seq_list[i]),1)\n",
    "        wide_n_deep = F.relu(self.fc2(wide_n_deep))\n",
    "        wide_n_deep = F.relu(self.fc3(wide_n_deep))\n",
    "        return wide_n_deep"
   ]
  },
  {
   "cell_type": "code",
   "execution_count": 17,
   "metadata": {
    "ExecuteTime": {
     "end_time": "2021-09-02T07:32:03.904662Z",
     "start_time": "2021-09-02T07:32:02.365702Z"
    }
   },
   "outputs": [
    {
     "data": {
      "text/plain": [
       "<All keys matched successfully>"
      ]
     },
     "execution_count": 17,
     "metadata": {},
     "output_type": "execute_result"
    }
   ],
   "source": [
    "net = Net()\n",
    "net.load_state_dict(torch.load(model_name))"
   ]
  },
  {
   "cell_type": "code",
   "execution_count": 18,
   "metadata": {
    "ExecuteTime": {
     "end_time": "2021-09-02T07:32:05.473546Z",
     "start_time": "2021-09-02T07:32:03.905692Z"
    }
   },
   "outputs": [],
   "source": [
    "final_test_u_list = []\n",
    "for ahead_time in ahead_times:\n",
    "    year_test_list = []\n",
    "    for pressure in pressures:\n",
    "        scaler_name = 'u' +str(pressure) + str(ahead_time)\n",
    "        X_deep = reanalysis_u_test_dict[scaler_name][reanalysis_u_test_dict[scaler_name][0].isin(test[0].unique())].loc[:,5:]\n",
    "        X_deep = X_deep_u_scaler_dict[scaler_name].transform(X_deep)\n",
    "        X_deep_final = X_deep.reshape(-1, 1, 1, 31, 31, 1)\n",
    "        year_test_list.append(X_deep_final)\n",
    "    X_deep_temp = np.concatenate(year_test_list, axis=2)\n",
    "    final_test_u_list.append(X_deep_temp)\n",
    "X_deep_u_test = np.concatenate(final_test_u_list, axis=5)\n",
    "\n",
    "final_test_v_list = []\n",
    "for ahead_time in ahead_times:\n",
    "    year_test_list = []\n",
    "    for pressure in pressures:\n",
    "        scaler_name = 'v' +str(pressure) + str(ahead_time)\n",
    "        X_deep = reanalysis_v_test_dict[scaler_name][reanalysis_v_test_dict[scaler_name][0].isin(test[0].unique())].loc[:,5:]\n",
    "        X_deep = X_deep_v_scaler_dict[scaler_name].transform(X_deep)\n",
    "        X_deep_final = X_deep.reshape(-1, 1, 1, 31, 31, 1)\n",
    "        year_test_list.append(X_deep_final)\n",
    "    X_deep_temp = np.concatenate(year_test_list, axis=2)\n",
    "    final_test_v_list.append(X_deep_temp)\n",
    "X_deep_v_test = np.concatenate(final_test_v_list, axis=5)\n",
    "\n",
    "X_deep_test = np.concatenate((X_deep_u_test, X_deep_v_test), axis=1)"
   ]
  },
  {
   "cell_type": "code",
   "execution_count": 19,
   "metadata": {
    "ExecuteTime": {
     "end_time": "2021-09-02T07:32:05.476576Z",
     "start_time": "2021-09-02T07:32:05.474814Z"
    }
   },
   "outputs": [],
   "source": [
    "# 100\n",
    "# 310\n",
    "# 410\n",
    "# 780\n",
    "# 980\n",
    "# 555"
   ]
  },
  {
   "cell_type": "code",
   "execution_count": 20,
   "metadata": {
    "ExecuteTime": {
     "end_time": "2021-09-02T07:32:07.429421Z",
     "start_time": "2021-09-02T07:32:05.477596Z"
    },
    "scrolled": false
   },
   "outputs": [
    {
     "data": {
      "text/plain": [
       "tensor([[0.1290]], device='cuda:0', grad_fn=<ReluBackward0>)"
      ]
     },
     "execution_count": 20,
     "metadata": {},
     "output_type": "execute_result"
    },
    {
     "data": {
      "image/png": "[encoded data removed]",
      "text/plain": [
       "<Figure size 576x504 with 8 Axes>"
      ]
     },
     "metadata": {
      "needs_background": "light"
     },
     "output_type": "display_data"
    }
   ],
   "source": [
    "# net.eval()\n",
    "X_wide = torch.tensor(X_wide_train[0])\n",
    "X_wide = torch.unsqueeze(X_wide, dim=0).float().cuda()\n",
    "X_deep = torch.tensor(X_deep_test[555]).float().cuda()\n",
    "X_deep = torch.unsqueeze(X_deep, dim=0)\n",
    "\n",
    "device = torch.device('cuda' if torch.cuda.is_available() else 'cpu')\n",
    "net = net.to(device)\n",
    "net(X_wide, X_deep)"
   ]
  },
  {
   "cell_type": "code",
   "execution_count": null,
   "metadata": {},
   "outputs": [],
   "source": []
  }
 ],
 "metadata": {
  "kernelspec": {
   "display_name": "Python 3",
   "language": "python",
   "name": "python3"
  },
  "language_info": {
   "codemirror_mode": {
    "name": "ipython",
    "version": 3
   },
   "file_extension": ".py",
   "mimetype": "text/x-python",
   "name": "python",
   "nbconvert_exporter": "python",
   "pygments_lexer": "ipython3",
   "version": "3.8.0"
  }
 },
 "nbformat": 4,
 "nbformat_minor": 4
}
